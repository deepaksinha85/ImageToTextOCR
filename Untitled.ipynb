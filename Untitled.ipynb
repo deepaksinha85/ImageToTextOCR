{
 "cells": [
  {
   "cell_type": "code",
   "execution_count": 44,
   "metadata": {},
   "outputs": [
    {
     "name": "stdout",
     "output_type": "stream",
     "text": [
      "--- Start recognize text from image ---\n",
      "roel yet bi\n",
      "\n",
      "vee HOR er ie eee Ente eo\n",
      "\n",
      "ee mr — ' ces iy eet Ed\n",
      "\n",
      "Iai i Rona e ieee et baee met Moet eee\n",
      "\n",
      "Seaantendniny iy ely ry\n",
      "\n",
      "ERIE ciate\n",
      "\n",
      "ALi rR\n",
      "\n",
      "aerate babes Dye a\n",
      "\n",
      "Riese\n",
      "\n",
      "Eee Sn\n",
      "\n",
      "tae we cmu cnn c wpe rene tes mou smn NN mt mei OEMS OLLCO Mrmr msm i msm san vansah sae nate wy\n",
      "------ Done -------\n"
     ]
    }
   ],
   "source": [
    "import cv2\n",
    "import numpy as np\n",
    "import pytesseract\n",
    "from PIL import Image\n",
    "\n",
    "# Path of working folder on Disk\n",
    "pytesseract.pytesseract.tesseract_cmd = r\"C:\\Program Files\\Tesseract-OCR\\tesseract.exe\"\n",
    "\n",
    "def get_string(img_path):\n",
    "    # Read image with opencv\n",
    "    img = cv2.imread(img_path)\n",
    "    \n",
    "   \n",
    "     # Convert to gray\n",
    "    img = cv2.cvtColor(img, cv2.COLOR_BGR2GRAY)\n",
    "\n",
    "   \n",
    "    img = cv2.adaptiveThreshold(img.astype(np.uint8), 255, cv2.ADAPTIVE_THRESH_MEAN_C, cv2.THRESH_BINARY, 41, 2)\n",
    "    \n",
    "    \n",
    "     #Resize\n",
    "    img = cv2.resize(img, None, fx=1, fy=1, interpolation=cv2.INTER_CUBIC)\n",
    "   \n",
    "    \n",
    "     # Apply dilation and erosion to remove some noise\n",
    "    kernel = np.ones((2, 1), np.uint8)\n",
    "    img = cv2.dilate(img, kernel, iterations=2)\n",
    "    img = cv2.erode(img, kernel, iterations=2)\n",
    "   \n",
    "    \n",
    "    \n",
    "    # Write the image after apply opencv to do some ...\n",
    "    ##cv2.imwrite(img_path, img)\n",
    "\n",
    "      \n",
    "\n",
    "    # Write image after removed noise\n",
    "    cv2.imwrite(\"File/sample1.jpg\", img)\n",
    "\n",
    "    #  Apply threshold to get image with only black and white\n",
    "   ## img = cv2.adaptiveThreshold(img, 255, cv2.ADAPTIVE_THRESH_GAUSSIAN_C, cv2.THRESH_BINARY, 31, 2)\n",
    "\n",
    "    # Write the image after apply opencv to do some ...\n",
    "    ##cv2.imwrite(img_path, img)\n",
    "\n",
    "    # Recognize text with tesseract for python\n",
    "    result = pytesseract.image_to_string(img)\n",
    "\n",
    "    # Remove template file\n",
    "    #os.remove(temp)\n",
    "\n",
    "    return result\n",
    "\n",
    "\n",
    "print ('--- Start recognize text from image ---')\n",
    "print (get_string(\"File/6.jpeg\"))\n",
    "\n",
    "print (\"------ Done -------\")"
   ]
  },
  {
   "cell_type": "code",
   "execution_count": null,
   "metadata": {},
   "outputs": [],
   "source": []
  },
  {
   "cell_type": "code",
   "execution_count": null,
   "metadata": {},
   "outputs": [],
   "source": []
  }
 ],
 "metadata": {
  "kernelspec": {
   "display_name": "Python 3",
   "language": "python",
   "name": "python3"
  },
  "language_info": {
   "codemirror_mode": {
    "name": "ipython",
    "version": 3
   },
   "file_extension": ".py",
   "mimetype": "text/x-python",
   "name": "python",
   "nbconvert_exporter": "python",
   "pygments_lexer": "ipython3",
   "version": "3.7.3"
  }
 },
 "nbformat": 4,
 "nbformat_minor": 2
}
